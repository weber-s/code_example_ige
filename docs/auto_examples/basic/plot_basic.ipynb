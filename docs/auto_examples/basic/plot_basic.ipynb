{
  "nbformat_minor": 0,
  "cells": [
    {
      "source": [
        "%matplotlib inline"
      ],
      "cell_type": "code",
      "outputs": [],
      "metadata": {
        "collapsed": false
      },
      "execution_count": null
    },
    {
      "source": [
        "\nBasic file retrieval and manipulation\n=====================================\n\nBasic CSV to pandas DataFrame and DataFrame manipulation.\n\n"
      ],
      "cell_type": "markdown",
      "metadata": {}
    },
    {
      "source": [
        "This example cover the following basic:\n\n    - retrieve a csv file from the web and store it in a pandas DataFrame\n    - manipulate date\n    - deal with missing value\n    - basic plot\n\n\n"
      ],
      "cell_type": "markdown",
      "metadata": {}
    },
    {
      "source": [
        "import pandas as pd\n\n# Let's load the Mauna Loa monthly average CO2 concentration\ncsv_file = 'https://raw.githubusercontent.com/alignedleft/d3-book/master/chapter_11/mauna_loa_co2_monthly_averages.csv'\ndf = pd.read_csv(csv_file)"
      ],
      "cell_type": "code",
      "outputs": [],
      "metadata": {
        "collapsed": false
      },
      "execution_count": null
    },
    {
      "source": [
        "Let's have a look at what is inside\n\n"
      ],
      "cell_type": "markdown",
      "metadata": {}
    },
    {
      "source": [
        "print(df.head())"
      ],
      "cell_type": "code",
      "outputs": [],
      "metadata": {
        "collapsed": false
      },
      "execution_count": null
    },
    {
      "source": [
        "Ok, we have a `year`, `month` and `average` column. We want a date as index and\nalso remove the -99.99 value (no measure).\n\n"
      ],
      "cell_type": "markdown",
      "metadata": {}
    },
    {
      "source": [
        "# Set the date as index\ndf['date'] = df[['year', 'month']].apply(lambda s: pd.datetime(*s, 1), axis=1)\ndf.set_index('date', inplace=True, drop=True)\n\n# replace -99.99 values by NaN\ndf['average'].replace({-99.99: pd.np.nan}, inplace=True)\n\n# and then finally plot it\nax = df['average'].plot()\nax.set_title(\"Mauna Loa station $CO_2$ concentration\")\nax.set_ylabel(\"$CO_2$ (ppm)\")"
      ],
      "cell_type": "code",
      "outputs": [],
      "metadata": {
        "collapsed": false
      },
      "execution_count": null
    }
  ],
  "metadata": {
    "language_info": {
      "name": "python",
      "pygments_lexer": "ipython3",
      "version": "3.5.3",
      "mimetype": "text/x-python",
      "nbconvert_exporter": "python",
      "codemirror_mode": {
        "name": "ipython",
        "version": 3
      },
      "file_extension": ".py"
    },
    "kernelspec": {
      "name": "python3",
      "display_name": "Python 3",
      "language": "python"
    }
  },
  "nbformat": 4
}