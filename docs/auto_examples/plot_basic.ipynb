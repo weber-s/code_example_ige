{
  "nbformat": 4,
  "nbformat_minor": 0,
  "metadata": {
    "kernelspec": {
      "display_name": "Python 3",
      "language": "python",
      "name": "python3"
    },
    "language_info": {
      "nbconvert_exporter": "python",
      "pygments_lexer": "ipython3",
      "file_extension": ".py",
      "mimetype": "text/x-python",
      "codemirror_mode": {
        "version": 3,
        "name": "ipython"
      },
      "version": "3.5.3",
      "name": "python"
    }
  },
  "cells": [
    {
      "source": [
        "%matplotlib inline"
      ],
      "metadata": {
        "collapsed": false
      },
      "outputs": [],
      "execution_count": null,
      "cell_type": "code"
    },
    {
      "source": [
        "\nLoad a CSV file from the web and plot it\n========================================\n\nThis example cover the following basic:\n    \n    - retrieve a csv file from the web and store it in a pandas DataFrame\n    - manipulate date\n    - deal with missing value\n    - basic plot\n\n\n"
      ],
      "metadata": {},
      "cell_type": "markdown"
    },
    {
      "source": [
        "import pandas as pd\n\n# Let's load the Mauna Loa monthly average CO2 concentration\ncsv_file = 'https://raw.githubusercontent.com/alignedleft/d3-book/master/chapter_11/mauna_loa_co2_monthly_averages.csv'\ndf = pd.read_csv(csv_file)"
      ],
      "metadata": {
        "collapsed": false
      },
      "outputs": [],
      "execution_count": null,
      "cell_type": "code"
    },
    {
      "source": [
        "Let's have a look at what is inside\n\n"
      ],
      "metadata": {},
      "cell_type": "markdown"
    },
    {
      "source": [
        "print(df.head())"
      ],
      "metadata": {
        "collapsed": false
      },
      "outputs": [],
      "execution_count": null,
      "cell_type": "code"
    },
    {
      "source": [
        "Ok, we have a `year`, `month` and `average` column. We want a date as index and\nalso remove the -99.99 value (no measure).\n\n"
      ],
      "metadata": {},
      "cell_type": "markdown"
    },
    {
      "source": [
        "# Set the date as index\ndf['date'] = df[['year', 'month']].apply(lambda s: pd.datetime(*s, 1), axis=1)\ndf.set_index('date', inplace=True, drop=True)\n\n# replace -99.99 values by NaN\ndf['average'].replace({-99.99: pd.np.nan}, inplace=True)\n\n# and then finally plot it\nax = df['average'].plot()\nax.set_title(\"Mauna Loa station $CO_2$ concentration\")\nax.set_ylabel(\"$CO_2$ (ppm)\")"
      ],
      "metadata": {
        "collapsed": false
      },
      "outputs": [],
      "execution_count": null,
      "cell_type": "code"
    }
  ]
}