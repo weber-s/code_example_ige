{
  "cells": [
    {
      "cell_type": "code",
      "execution_count": null,
      "metadata": {
        "collapsed": false
      },
      "outputs": [],
      "source": [
        "%matplotlib inline"
      ]
    },
    {
      "cell_type": "markdown",
      "metadata": {},
      "source": [
        "\nAdd season DataFrame and categorical plot\n=========================================\n\nAdd season (DJF, MAM, JJA, SON) to an existing dataframe then use seaborn to\nplot distribution of value grouping by season.\n\n"
      ]
    },
    {
      "cell_type": "markdown",
      "metadata": {},
      "source": [
        "This example cover the following basic:\n\n    - group a dataframe by season\n    - plot seasonal distribution of a variable\n\n\n"
      ]
    },
    {
      "cell_type": "code",
      "execution_count": null,
      "metadata": {
        "collapsed": false
      },
      "outputs": [],
      "source": [
        "import pandas as pd\n\n# Load some atmospheric PM concentration at Grenoble Les Frenes from 2007 to 2018\ncsv_file = 'https://gist.githubusercontent.com/weber-s/4451562bb408fbfafc7b80520faa0773/raw/1989bcbc19894aad99feeb0f12dd1b36b8380960/PM_GRE-fr'\ndf = pd.read_csv(csv_file)\n\n# Let's have a look at what is inside\nprint(df.head())"
      ]
    },
    {
      "cell_type": "markdown",
      "metadata": {},
      "source": [
        "We want \"date\" as a date. So we convert it to datetime object\n\n"
      ]
    },
    {
      "cell_type": "code",
      "execution_count": null,
      "metadata": {
        "collapsed": false
      },
      "outputs": [],
      "source": [
        "df[\"date\"] = pd.to_datetime(df[\"date\"])\n\n# Set the date as index\ndf.set_index('date', inplace=True, drop=True)"
      ]
    },
    {
      "cell_type": "markdown",
      "metadata": {},
      "source": [
        "Now, we wan't to group it by season: DJF, MAM, JJA, SON. Even if a date object\nhas a lot of attribut (.day, .month, .year, etc), it does have a .season.\nMostly because what we call \"season\" change from people to people and place to\nplace. We then have to construct it ourself.\n\nThis function is copy-pastable, so some extra work are done (check for index,\ntype of date, etc).\n\n"
      ]
    },
    {
      "cell_type": "code",
      "execution_count": null,
      "metadata": {
        "collapsed": false
      },
      "outputs": [],
      "source": [
        "def add_season(df):\n    \"\"\"\n    Add a season column to the DataFrame df.\n\n    parameters\n    ----------\n    \n    df: Pandas DataFrame.\n        The DataFrame to work with.\n\n    return\n    ------\n\n    dfnew: a new pandas DataFrame with a 'season' columns.\n    \n    \"\"\"\n    \n    month_to_season = {1:'DJF', 2:'DJF', 3:'MAM', 4:'MAM', 5:'MAM', 6:'JJA',\n                       7:'JJA', 8:'JJA', 9:'SON', 10:'SON', 11:'SON', 12:'DJF'}\n    \n    dfnew = df.copy()\n\n    # ensure we have date in index\n    if isinstance(dfnew.index, pd.DatetimeIndex):\n        dfnew[\"date\"] = dfnew.index        \n    elif 'date' in dfnew.columns:\n        dfnew[\"date\"] = pd.to_datetime(dfnew[\"date\"])\n    else:\n        print(\"No date given\")\n        return\n    \n    # add a new column with the number of the month (Jan=1, etc)\n    dfnew[\"month\"] = dfnew.date.apply(lambda x: x.month)\n    # sort it. This is not mandatory.\n    dfnew.sort_values(by=\"month\", inplace=True)\n\n    # add the season base on the month number\n    dfnew[\"season\"] = dfnew[\"month\"].replace(month_to_season)\n\n    # and return the new dataframe\n    return dfnew"
      ]
    },
    {
      "cell_type": "markdown",
      "metadata": {},
      "source": [
        "Now we can use this function to add a 'season' and 'month' column to our\ndataframe.\n\n"
      ]
    },
    {
      "cell_type": "code",
      "execution_count": null,
      "metadata": {
        "collapsed": false
      },
      "outputs": [],
      "source": [
        "df = add_season(df)\n\nprint(df.head())"
      ]
    },
    {
      "cell_type": "markdown",
      "metadata": {},
      "source": [
        "Note that now, our dataframe has 2 new columns: 'month' and 'season'.\nWe then use the `seaborn` library to plot categorical data, for instance the\nboxplot per season of PM.\n\n"
      ]
    },
    {
      "cell_type": "code",
      "execution_count": null,
      "metadata": {
        "collapsed": false
      },
      "outputs": [],
      "source": [
        "import seaborn as sns\nimport matplotlib.pyplot as plt\n\nsns.boxplot(data=df, x='season', y='PMrecons')\n\nplt.show()"
      ]
    }
  ],
  "metadata": {
    "kernelspec": {
      "display_name": "Python 3",
      "language": "python",
      "name": "python3"
    },
    "language_info": {
      "codemirror_mode": {
        "name": "ipython",
        "version": 3
      },
      "file_extension": ".py",
      "mimetype": "text/x-python",
      "name": "python",
      "nbconvert_exporter": "python",
      "pygments_lexer": "ipython3",
      "version": "3.6.4"
    }
  },
  "nbformat": 4,
  "nbformat_minor": 0
}