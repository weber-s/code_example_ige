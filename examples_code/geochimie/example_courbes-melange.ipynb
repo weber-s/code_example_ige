{
 "cells": [
  {
   "cell_type": "markdown",
   "metadata": {},
   "source": [
    "## diagrammes géochimiques de base\n",
    "\n",
    "un truc qu'on fait souvent, en géochimie, c'est de tracer des graphes débiles. \n",
    "typiquement des graphes ratio-ratio\n",
    "ou alors des graphes ternaires (pas pour ce qui me concerne, mais bon...)\n",
    "\n",
    "et puis, quand on fait des graphes ratio-ratio, il y a toujours la question de la drotie de mélange. est-ce que c'est une droite ? pas une droite ? \n",
    "\n",
    "et puis d'abord je veux un graphe en log-log, parce que c'est plus lisible. et puis il y en a qui disent que quand on fait du fractionnement continu, on devrait de toute façon faire du log-log... mais quid de la courbe de mélange ?\n",
    "\n",
    "allons y voir de plus près\n"
   ]
  },
  {
   "cell_type": "code",
   "execution_count": 1,
   "metadata": {},
   "outputs": [],
   "source": [
    "import pandas as pd\n",
    "from numpy import linspace, logspace\n",
    "import matplotlib.pyplot as plt\n",
    "%matplotlib inline\n"
   ]
  },
  {
   "cell_type": "code",
   "execution_count": 1,
   "metadata": {},
   "outputs": [
    {
     "ename": "NameError",
     "evalue": "name 'pd' is not defined",
     "output_type": "error",
     "traceback": [
      "\u001b[0;31m---------------------------------------------------------------------------\u001b[0m",
      "\u001b[0;31mNameError\u001b[0m                                 Traceback (most recent call last)",
      "\u001b[0;32m<ipython-input-1-33d63d81008f>\u001b[0m in \u001b[0;36m<module>\u001b[0;34m()\u001b[0m\n\u001b[0;32m----> 1\u001b[0;31m sources = pd.DataFrame({'S1' : {'X':100,'Y':10,'Z':100},\n\u001b[0m\u001b[1;32m      2\u001b[0m                         \u001b[0;34m'S2'\u001b[0m \u001b[0;34m:\u001b[0m \u001b[0;34m{\u001b[0m\u001b[0;34m'X'\u001b[0m\u001b[0;34m:\u001b[0m\u001b[0;36m10\u001b[0m\u001b[0;34m,\u001b[0m\u001b[0;34m'Y'\u001b[0m\u001b[0;34m:\u001b[0m \u001b[0;36m200\u001b[0m\u001b[0;34m,\u001b[0m\u001b[0;34m'Z'\u001b[0m\u001b[0;34m:\u001b[0m\u001b[0;36m68\u001b[0m\u001b[0;34m}\u001b[0m\u001b[0;34m,\u001b[0m\u001b[0;34m\u001b[0m\u001b[0m\n\u001b[1;32m      3\u001b[0m                         \u001b[0;34m'S3'\u001b[0m \u001b[0;34m:\u001b[0m \u001b[0;34m{\u001b[0m\u001b[0;34m'X'\u001b[0m\u001b[0;34m:\u001b[0m \u001b[0;36m2\u001b[0m\u001b[0;34m,\u001b[0m\u001b[0;34m'Y'\u001b[0m\u001b[0;34m:\u001b[0m \u001b[0;36m8\u001b[0m\u001b[0;34m,\u001b[0m\u001b[0;34m'Z'\u001b[0m\u001b[0;34m:\u001b[0m\u001b[0;36m6\u001b[0m\u001b[0;34m}\u001b[0m\u001b[0;34m,\u001b[0m\u001b[0;34m\u001b[0m\u001b[0m\n\u001b[1;32m      4\u001b[0m                         'S4' : {'X': 50,'Y': 3,'Z':25}  }).T\n\u001b[1;32m      5\u001b[0m \u001b[0;34m\u001b[0m\u001b[0m\n",
      "\u001b[0;31mNameError\u001b[0m: name 'pd' is not defined"
     ]
    }
   ],
   "source": [
    "sources = pd.DataFrame({'S1' : {'X':100,'Y':10,'Z':100},\n",
    "                        'S2' : {'X':10,'Y': 200,'Z':68},\n",
    "                        'S3' : {'X': 2,'Y': 8,'Z':6},\n",
    "                        'S4' : {'X': 50,'Y': 3,'Z':25}  }).T\n",
    "\n",
    "sources['X/Z']=sources['X']/sources['Z']\n",
    "sources['Y/Z']=sources['Y']/sources['Z']\n",
    "\n",
    "print(sources)\n",
    "\n",
    "ax = sources.plot(kind='scatter',x='X/Z',y='Y/Z',logx=True,logy=True)\n",
    "\n",
    "def mix(dfS,A,B):\n",
    "    alpha = linspace(0,1)\n",
    "    mixed = {x:dfS.loc[A,x]*alpha+dfS.loc[B,x]*(1-alpha) for x in ['X','Y','Z']}\n",
    "    mixed = pd.DataFrame(mixed)\n",
    "    mixed['X/Z']=mixed['X']/mixed['Z']\n",
    "    mixed['Y/Z']=mixed['Y']/mixed['Z']\n",
    "    return mixed\n",
    "\n",
    "mix(sources,'S1','S2').plot(kind='scatter',x='X/Z',y='Y/Z',style='-',ax=ax,lw=0.1)\n",
    "mix(sources,'S2','S3').plot(kind='scatter',x='X/Z',y='Y/Z',style='-',ax=ax,lw=0.1)\n",
    "mix(sources,'S4','S3').plot(kind='scatter',x='X/Z',y='Y/Z',style='-',ax=ax,lw=0.1)\n",
    "mix(sources,'S4','S1').plot(kind='scatter',x='X/Z',y='Y/Z',style='-',ax=ax,lw=0.1)\n",
    "mix(sources,'S4','S2').plot(kind='scatter',x='X/Z',y='Y/Z',style='-',ax=ax,lw=0.1)\n",
    "mix(sources,'S1','S3').plot(kind='scatter',x='X/Z',y='Y/Z',style='-',ax=ax,lw=0.1)\n",
    "\n"
   ]
  },
  {
   "cell_type": "markdown",
   "metadata": {},
   "source": [
    "Et une nouvelle case"
   ]
  }
 ],
 "metadata": {
  "kernelspec": {
   "display_name": "Python 3",
   "language": "python",
   "name": "python3"
  },
  "language_info": {
   "codemirror_mode": {
    "name": "ipython",
    "version": 3
   },
   "file_extension": ".py",
   "mimetype": "text/x-python",
   "name": "python",
   "nbconvert_exporter": "python",
   "pygments_lexer": "ipython3",
   "version": "3.6.4"
  }
 },
 "nbformat": 4,
 "nbformat_minor": 2
}
