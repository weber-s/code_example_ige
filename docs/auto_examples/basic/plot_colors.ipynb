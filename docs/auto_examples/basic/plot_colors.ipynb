{
  "nbformat": 4,
  "cells": [
    {
      "execution_count": null,
      "source": [
        "%matplotlib inline"
      ],
      "outputs": [],
      "cell_type": "code",
      "metadata": {
        "collapsed": false
      }
    },
    {
      "source": [
        "\nColormaps alter your perception\n===============================\n\nHere I plot the function\n\\begin{align}f(x, y) = \\sin(x) + \\cos(y)\\end{align}\nwith different colormaps.\n\n"
      ],
      "cell_type": "markdown",
      "metadata": {}
    },
    {
      "execution_count": null,
      "source": [
        "import numpy as np\nimport matplotlib.pyplot as plt\n\nx = np.linspace(-np.pi, np.pi, 300)\nxx, yy = np.meshgrid(x, x)\nz = np.cos(xx) + np.cos(yy)\n\nplt.figure()\nplt.imshow(z)\n\nplt.figure()\nplt.imshow(z, cmap=plt.cm.get_cmap('hot'))\n\nplt.figure()\nplt.imshow(z, cmap=plt.cm.get_cmap('Spectral'),\n           interpolation='none')\n\n# Not needed for the Gallery.\n# Only for direct execution\nplt.show()"
      ],
      "outputs": [],
      "cell_type": "code",
      "metadata": {
        "collapsed": false
      }
    },
    {
      "source": [
        "You can define blocks in your source code\nwith interleaving prose.\n\n\n"
      ],
      "cell_type": "markdown",
      "metadata": {}
    },
    {
      "execution_count": null,
      "source": [
        "print(\"This writes to stdout and will be\",\n      \" displayed in the HTML file\")"
      ],
      "outputs": [],
      "cell_type": "code",
      "metadata": {
        "collapsed": false
      }
    }
  ],
  "nbformat_minor": 0,
  "metadata": {
    "kernelspec": {
      "name": "python3",
      "language": "python",
      "display_name": "Python 3"
    },
    "language_info": {
      "name": "python",
      "pygments_lexer": "ipython3",
      "codemirror_mode": {
        "version": 3,
        "name": "ipython"
      },
      "mimetype": "text/x-python",
      "file_extension": ".py",
      "version": "3.5.3",
      "nbconvert_exporter": "python"
    }
  }
}