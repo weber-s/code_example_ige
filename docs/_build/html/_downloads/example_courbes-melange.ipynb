{
  "cells": [
    {
      "cell_type": "code",
      "execution_count": null,
      "metadata": {
        "collapsed": false
      },
      "outputs": [],
      "source": [
        "%matplotlib inline"
      ]
    },
    {
      "cell_type": "markdown",
      "metadata": {},
      "source": [
        "\ndiagrammes g\u00e9ochimiques de base\n-------------------------------\n\nun truc qu\u2019on fait souvent, en g\u00e9ochimie, c\u2019est de tracer des graphes\nd\u00e9biles. typiquement des graphes ratio-ratio ou alors des graphes\nternaires (pas pour ce qui me concerne, mais bon\u2026)\n\net puis, quand on fait des graphes ratio-ratio, il y a toujours la\nquestion de la drotie de m\u00e9lange. est-ce que c\u2019est une droite ? pas une\ndroite ?\n\net puis d\u2019abord je veux un graphe en log-log, parce que c\u2019est plus\nlisible. et puis il y en a qui disent que quand on fait du\nfractionnement continu, on devrait de toute fa\u00e7on faire du log-log\u2026 mais\nquid de la courbe de m\u00e9lange ?\n\nallons y voir de plus pr\u00e8s\n\n\n"
      ]
    },
    {
      "cell_type": "code",
      "execution_count": null,
      "metadata": {
        "collapsed": false
      },
      "outputs": [],
      "source": [
        "import pandas as pd\nfrom numpy import linspace, logspace\nimport matplotlib.pyplot as plt\n# %matplotlib inline\n\n\nsources = pd.DataFrame({'S1' : {'X':100,'Y':10,'Z':100},\n                        'S2' : {'X':10,'Y': 200,'Z':68},\n                        'S3' : {'X': 2,'Y': 8,'Z':6},\n                        'S4' : {'X': 50,'Y': 3,'Z':25}  }).T\n\nsources['X/Z']=sources['X']/sources['Z']\nsources['Y/Z']=sources['Y']/sources['Z']\n\nprint(sources)\n\nax = sources.plot(kind='scatter',x='X/Z',y='Y/Z',logx=True,logy=True)\n\ndef mix(dfS,A,B):\n    alpha = linspace(0,1)\n    mixed = {x:dfS.loc[A,x]*alpha+dfS.loc[B,x]*(1-alpha) for x in ['X','Y','Z']}\n    mixed = pd.DataFrame(mixed)\n    mixed['X/Z']=mixed['X']/mixed['Z']\n    mixed['Y/Z']=mixed['Y']/mixed['Z']\n    return mixed\n\nmix(sources,'S1','S2').plot(kind='scatter',x='X/Z',y='Y/Z',style='-',ax=ax,lw=0.1)\nmix(sources,'S2','S3').plot(kind='scatter',x='X/Z',y='Y/Z',style='-',ax=ax,lw=0.1)\nmix(sources,'S4','S3').plot(kind='scatter',x='X/Z',y='Y/Z',style='-',ax=ax,lw=0.1)\nmix(sources,'S4','S1').plot(kind='scatter',x='X/Z',y='Y/Z',style='-',ax=ax,lw=0.1)\nmix(sources,'S4','S2').plot(kind='scatter',x='X/Z',y='Y/Z',style='-',ax=ax,lw=0.1)\nmix(sources,'S1','S3').plot(kind='scatter',x='X/Z',y='Y/Z',style='-',ax=ax,lw=0.1)"
      ]
    },
    {
      "cell_type": "markdown",
      "metadata": {},
      "source": [
        "Et une nouvelle case\n\n"
      ]
    }
  ],
  "metadata": {
    "kernelspec": {
      "display_name": "Python 3",
      "language": "python",
      "name": "python3"
    },
    "language_info": {
      "codemirror_mode": {
        "name": "ipython",
        "version": 3
      },
      "file_extension": ".py",
      "mimetype": "text/x-python",
      "name": "python",
      "nbconvert_exporter": "python",
      "pygments_lexer": "ipython3",
      "version": "3.6.4"
    }
  },
  "nbformat": 4,
  "nbformat_minor": 0
}